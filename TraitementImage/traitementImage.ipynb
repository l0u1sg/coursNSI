{
 "cells": [
  {
   "metadata": {},
   "cell_type": "markdown",
   "source": [
    "# Python manipulation image 1"
   ]
  },
  {
   "metadata": {},
   "cell_type": "markdown",
   "source": [
    "# Avant de commencer\n",
    "## README\n",
    "Le contenu de cette case te permettra de te familiariser avec l'environnement Notebook et te montrer où cliquer pour effectuer des actions:\n",
    "\n",
    "## Importation des ressources\n",
    "Clique sur l'icône avec le dossier en haut à gauche puis séléctionne l'image robot.jpeg que tu peux télécharger ci-dessous\n",
    "\n",
    "https://gitea.louisgallet.fr/lgallet/coursNSI/raw/commit/8cf68c3197a0c6d2219b3d56dbd6073158bf6ef9/TraitementImage/robot.jpeg\n",
    "\n",
    "Vidéo explicative : \n",
    "\n",
    "![Gif montrant l'importation](https://gitea.louisgallet.fr/lgallet/coursNSI/raw/branch/main/TraitementImage/importBasthon.gif)\n",
    "\n",
    "## Fonctionnement du Notebook\n",
    "Pour executer le notebook, clique simplement sur la case executer, la barre bleu à gauche va se déplacer en bas à chaque execution, cette dernière montre la cellule qui va se faire executer. Si tu veux executer une cellule en particuler / en éditer une, clique (ou double clique) simplement dessus"
   ]
  },
  {
   "metadata": {
    "trusted": true
   },
   "cell_type": "code",
   "source": [
    "from PIL import Image # Ouvrir le module PIP et import le package Image\n",
    "Img = Image.open(\"robot.jpeg\") # Assigne a la variable image l'image du robot\n",
    "rouge, vert, bleu = Img.getpixel((150, 200))\n",
    "print(rouge, vert, bleu)"
   ],
   "execution_count": null,
   "outputs": []
  },
  {
   "metadata": {
    "trusted": true
   },
   "cell_type": "code",
   "source": [
    "Img.putpixel((150, 150), (255, 0, 0))\n",
    "Img.show()"
   ],
   "execution_count": null,
   "outputs": []
  },
  {
   "metadata": {
    "trusted": true
   },
   "cell_type": "code",
   "source": [
    "for x in range(30):\n",
    "    for y in range(30):\n",
    "       Img.putpixel((10*x, 10*y), (255, 0, 0)) #mets la couleur rouge\n",
    "Img.show()"
   ],
   "execution_count": null,
   "outputs": []
  },
  {
   "metadata": {
    "trusted": true
   },
   "cell_type": "code",
   "source": [
    "for x in range(30):\n",
    "    for y in range(30):\n",
    "       rouge, vert, bleu = Img.getpixel((10*x, 10*y))\n",
    "       Img.putpixel((10*x, 10*y), (255-rouge, 255-vert, 255-bleu)) #mets la couleur rouge\n",
    "Img.show()"
   ],
   "execution_count": null,
   "outputs": []
  },
  {
   "metadata": {
    "trusted": true
   },
   "cell_type": "code",
   "source": [
    "for x in range(626):\n",
    "    for y in range(626):\n",
    "       rouge, vert, bleu = Img.getpixel((x, y))\n",
    "       Img.putpixel((x, y), (255-rouge, 255-vert, 255-bleu)) # remplacer ici pour noir / blanc\n",
    "Img.show()"
   ],
   "execution_count": null,
   "outputs": []
  }
 ],
 "metadata": {
  "kernelspec": {
   "display_name": "Python 3",
   "language": "python",
   "name": "python3"
  },
  "celltoolbar": "Pièces jointes"
 },
 "nbformat": 4,
 "nbformat_minor": 2
}
